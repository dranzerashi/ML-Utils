{
 "cells": [
  {
   "cell_type": "code",
   "execution_count": 6,
   "metadata": {},
   "outputs": [],
   "source": [
    "from ngram import Gram, NGram \n",
    "import matplotlib.pyplot as plt\n",
    "import matplotlib.patches as patches\n",
    "\n",
    "import cv2\n",
    "%matplotlib inline            \n",
    "from itertools import permutations, product\n",
    "import glob\n",
    "\n",
    "def generate_ngrams(grams, size = None):\n",
    "    if size == None:\n",
    "        size = len(grams)\n",
    "    perm_list = product(grams, repeat = size)\n",
    "    ngram_list = []\n",
    "    for perm in perm_list:\n",
    "        ngram = NGram()\n",
    "        for gram in perm:\n",
    "            ngram.add_gram(gram)\n",
    "        ngram_list.append(ngram)\n",
    "    return ngram_list\n",
    "def get_files(base_url,file_type=\"jpg\", recurse=False):\n",
    "    files = glob.glob(base_url+\"*.\"+ file_type,recursive=recurse)\n",
    "    return files\n",
    "\n",
    "def get_grams(files):\n",
    "    grams = []\n",
    "    for file in files:\n",
    "        label = file.split(\"\\\\\")[-2]\n",
    "        gram = Gram(file, label)\n",
    "        grams.append(gram)\n",
    "    return grams"
   ]
  },
  {
   "cell_type": "code",
   "execution_count": 8,
   "metadata": {},
   "outputs": [
    {
     "name": "stdout",
     "output_type": "stream",
     "text": [
      "625\n",
      "3 ((21, 0), (28, 18))\n",
      "3 ((21, 0), (33, 18))\n",
      "2 ((14, 0), (21, 18))\n",
      "1 ((7, 0), (14, 18))\n",
      "0 ((0, 0), (7, 18))\n",
      "1 ((7, 0), (14, 18))\n",
      "0 ((0, 0), (7, 18))\n",
      "2 ((14, 0), (26, 18))\n",
      "3 ((26, 0), (33, 18))\n",
      "3 ((26, 0), (34, 18))\n"
     ]
    },
    {
     "data": {
      "image/png": "[encoded data removed]",
      "text/plain": [
       "<Figure size 432x288 with 10 Axes>"
      ]
     },
     "metadata": {
      "needs_background": "light"
     },
     "output_type": "display_data"
    }
   ],
   "source": [
    "\n",
    "BASE_URI = \".\\\\data\\\\train\\\\digits\\\\\"\n",
    "files = get_files(BASE_URI+\"**\\\\\",file_type=\"png\", recurse=True)\n",
    "lst = get_grams(files)\n",
    "\n",
    "\n",
    "import random\n",
    "lst = [random.choice(lst) for i in range(5)]\n",
    "ngrams = generate_ngrams(lst, size = 4)\n",
    "print(len(ngrams))\n",
    "fig=plt.figure()\n",
    "i= 1\n",
    "for ngram in ngrams[:10]:\n",
    "    ax = fig.add_subplot(5,5,i)\n",
    "    i+=1\n",
    "    indx = random.choice([0,1,2,3])\n",
    "    print(indx, ngram.bbox(indx))\n",
    "    (start, end) = ngram.bbox(indx)\n",
    "    \n",
    "    rect = patches.Rectangle(start,-start[0]+end[0],-start[1]+end[1],linewidth=1,edgecolor='r',facecolor='none')\n",
    "    ax.add_patch(rect)\n",
    "    plt.imshow(ngram.img)"
   ]
  },
  {
   "cell_type": "code",
   "execution_count": null,
   "metadata": {},
   "outputs": [],
   "source": []
  },
  {
   "cell_type": "code",
   "execution_count": null,
   "metadata": {},
   "outputs": [],
   "source": []
  },
  {
   "cell_type": "code",
   "execution_count": null,
   "metadata": {},
   "outputs": [],
   "source": []
  },
  {
   "cell_type": "code",
   "execution_count": null,
   "metadata": {},
   "outputs": [],
   "source": []
  },
  {
   "cell_type": "code",
   "execution_count": null,
   "metadata": {},
   "outputs": [],
   "source": []
  }
 ],
 "metadata": {
  "kernelspec": {
   "display_name": "Python 3",
   "language": "python",
   "name": "python3"
  },
  "language_info": {
   "codemirror_mode": {
    "name": "ipython",
    "version": 3
   },
   "file_extension": ".py",
   "mimetype": "text/x-python",
   "name": "python",
   "nbconvert_exporter": "python",
   "pygments_lexer": "ipython3",
   "version": "3.5.6"
  }
 },
 "nbformat": 4,
 "nbformat_minor": 2
}
